{
 "cells": [
  {
   "cell_type": "code",
   "execution_count": 1,
   "metadata": {},
   "outputs": [
    {
     "name": "stderr",
     "output_type": "stream",
     "text": [
      "C:\\Anaconda\\lib\\site-packages\\h5py\\__init__.py:36: FutureWarning: Conversion of the second argument of issubdtype from `float` to `np.floating` is deprecated. In future, it will be treated as `np.float64 == np.dtype(float).type`.\n",
      "  from ._conv import register_converters as _register_converters\n"
     ]
    },
    {
     "name": "stdout",
     "output_type": "stream",
     "text": [
      "Extracting MNIST_data\\train-images-idx3-ubyte.gz\n",
      "Extracting MNIST_data\\train-labels-idx1-ubyte.gz\n",
      "Extracting MNIST_data\\t10k-images-idx3-ubyte.gz\n",
      "Extracting MNIST_data\\t10k-labels-idx1-ubyte.gz\n"
     ]
    }
   ],
   "source": [
    "import tensorflow as tf\n",
    "old_v = tf.logging.get_verbosity()\n",
    "tf.logging.set_verbosity(tf.logging.ERROR) #logging 우회하기\n",
    "from tensorflow.examples.tutorials.mnist import input_data\n",
    "\n",
    "mnist = input_data.read_data_sets('MNIST_data', one_hot=True, reshape=False)\n",
    "\n",
    "X = tf.placeholder(tf.float32, shape=[None, 28,28,1])\n",
    "Y_Label = tf.placeholder(tf.float32, shape=[None,10])"
   ]
  },
  {
   "cell_type": "code",
   "execution_count": 2,
   "metadata": {},
   "outputs": [],
   "source": [
    "Kernel1 = tf.Variable(tf.truncated_normal(shape=[3,3,1,3], stddev=0.1))\n",
    "Bias1 = tf.Variable(tf.truncated_normal(shape=[3], stddev=0.1))\n",
    "Conv1 = tf.nn.conv2d(X, Kernel1, strides=[1,1,1,1], padding='SAME') + Bias1\n",
    "Activation1 = tf.nn.sigmoid(Conv1)\n",
    "Pool1 = tf.nn.max_pool(Activation1, ksize=[1,2,2,1], strides=[1,2,2,1], padding='SAME')"
   ]
  },
  {
   "cell_type": "code",
   "execution_count": 3,
   "metadata": {},
   "outputs": [],
   "source": [
    "Kernel2 = tf.Variable(tf.truncated_normal(shape=[3,3,3,6], stddev=0.1))\n",
    "Bias2 = tf.Variable(tf.truncated_normal(shape=[6], stddev=0.1))\n",
    "Conv2 = tf.nn.conv2d(Pool1, Kernel2, strides=[1,1,1,1], padding='SAME') + Bias2\n",
    "Activation2 = tf.nn.sigmoid(Conv2)\n",
    "Pool2 = tf.nn.max_pool(Activation2, ksize=[1,2,2,1], strides=[1,2,2,1], padding='SAME')"
   ]
  },
  {
   "cell_type": "code",
   "execution_count": 4,
   "metadata": {},
   "outputs": [],
   "source": [
    "Kernel3 = tf.Variable(tf.truncated_normal(shape=[3,3,6,12], stddev=0.1))\n",
    "Bias3 = tf.Variable(tf.truncated_normal(shape=[12], stddev=0.1))\n",
    "Conv3 = tf.nn.conv2d(Pool2, Kernel3, strides=[1,1,1,1], padding='SAME') + Bias3\n",
    "Activation3 = tf.nn.sigmoid(Conv3)\n",
    "Pool3 = tf.nn.max_pool(Activation3, ksize=[1,2,2,1], strides=[1,2,2,1], padding='SAME')"
   ]
  },
  {
   "cell_type": "code",
   "execution_count": 5,
   "metadata": {},
   "outputs": [],
   "source": [
    "Kernel4 = tf.Variable(tf.truncated_normal(shape=[3,3,12,24], stddev=0.1))\n",
    "Bias4 = tf.Variable(tf.truncated_normal(shape=[24], stddev=0.1))\n",
    "Conv4 = tf.nn.conv2d(Pool3, Kernel4, strides=[1,1,1,1], padding='SAME') + Bias4\n",
    "Activation4 = tf.nn.sigmoid(Conv4)\n",
    "Pool4 = tf.nn.max_pool(Activation4, ksize=[1,1,1,1], strides=[1,1,1,1], padding='SAME')"
   ]
  },
  {
   "cell_type": "code",
   "execution_count": 6,
   "metadata": {},
   "outputs": [],
   "source": [
    "W1 = tf.Variable(tf.truncated_normal(shape=[24 * 4 * 4, 10]))\n",
    "B1 = tf.Variable(tf.truncated_normal(shape=[10]))\n",
    "Pool4_flat = tf.reshape(Pool4, [-1, 24 * 4 * 4])\n",
    "OutputLayer = tf.matmul(Pool4_flat, W1) + B1"
   ]
  },
  {
   "cell_type": "code",
   "execution_count": 7,
   "metadata": {},
   "outputs": [
    {
     "name": "stdout",
     "output_type": "stream",
     "text": [
      "Start.....\n",
      "정확도 : 0.0892\n",
      "정확도 : 0.101\n",
      "정확도 : 0.1135\n",
      "정확도 : 0.1135\n",
      "정확도 : 0.095\n",
      "정확도 : 0.1028\n",
      "정확도 : 0.0892\n",
      "정확도 : 0.0974\n",
      "정확도 : 0.101\n",
      "정확도 : 0.1028\n",
      "정확도 : 0.0982\n",
      "정확도 : 0.0974\n",
      "정확도 : 0.0958\n",
      "정확도 : 0.1028\n",
      "정확도 : 0.1135\n",
      "훈련시간 :  326.7074934\n"
     ]
    }
   ],
   "source": [
    "with tf.name_scope(\"loss\"):\n",
    "    Loss = tf.reduce_mean(tf.nn.softmax_cross_entropy_with_logits(\n",
    "        labels=Y_Label, logits=OutputLayer))\n",
    "    train_step = tf.train.RMSPropOptimizer(0.005).minimize(Loss)\n",
    "    tf.summary.scalar('loss', Loss)\n",
    "    \n",
    "with tf.name_scope(\"accuracy\"):\n",
    "    correct_predicition = tf.equal(tf.argmax(OutputLayer, 1), tf.argmax(Y_Label, 1))\n",
    "    accuracy = tf.reduce_mean(tf.cast(correct_predicition, tf.float32))\n",
    "    tf.summary.scalar('accuracy', accuracy)\n",
    "\n",
    "import timeit\n",
    "timeS = timeit.default_timer()\n",
    "\n",
    "with tf.Session() as sess:\n",
    "    print(\"Start.....\")\n",
    "    writer = tf.summary.FileWriter(\"./logs/on_logs\", sess.graph)\n",
    "    merged = tf.summary.merge_all()\n",
    "    \n",
    "    sess.run(tf.global_variables_initializer())\n",
    "    summary, acc = sess.run([merged, accuracy], feed_dict={X: mnist.test.images, Y_Label: mnist.test.labels})\n",
    "    for i in range(150):\n",
    "        trainingData, Y = mnist.train.next_batch(64)\n",
    "        sess.run(train_step, feed_dict={X: trainingData, Y_Label: Y})\n",
    "        if i % 10 == 0:\n",
    "            print('정확도 : ',end=\"\")\n",
    "            print(sess.run(accuracy,\n",
    "                           feed_dict={X:mnist.test.images,Y_Label:mnist.test.labels}))\n",
    "        summary, acc = sess.run([merged, accuracy],\n",
    "                               feed_dict={X:mnist.test.images,Y_Label:mnist.test.labels})\n",
    "        writer.add_summary(summary, i)\n",
    "\n",
    "timeE = timeit.default_timer()\n",
    "print(\"훈련시간 : \", timeE-timeS)"
   ]
  },
  {
   "cell_type": "code",
   "execution_count": null,
   "metadata": {},
   "outputs": [],
   "source": []
  }
 ],
 "metadata": {
  "kernelspec": {
   "display_name": "Python 3",
   "language": "python",
   "name": "python3"
  },
  "language_info": {
   "codemirror_mode": {
    "name": "ipython",
    "version": 3
   },
   "file_extension": ".py",
   "mimetype": "text/x-python",
   "name": "python",
   "nbconvert_exporter": "python",
   "pygments_lexer": "ipython3",
   "version": "3.6.5"
  }
 },
 "nbformat": 4,
 "nbformat_minor": 2
}
