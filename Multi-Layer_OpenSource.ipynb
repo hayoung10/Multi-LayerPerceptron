{
 "cells": [
  {
   "cell_type": "markdown",
   "metadata": {},
   "source": [
    "# 다층 퍼셉트론 오픈 소스"
   ]
  },
  {
   "cell_type": "code",
   "execution_count": 1,
   "metadata": {},
   "outputs": [
    {
     "name": "stderr",
     "output_type": "stream",
     "text": [
      "C:\\Anaconda\\lib\\site-packages\\h5py\\__init__.py:36: FutureWarning: Conversion of the second argument of issubdtype from `float` to `np.floating` is deprecated. In future, it will be treated as `np.float64 == np.dtype(float).type`.\n",
      "  from ._conv import register_converters as _register_converters\n"
     ]
    }
   ],
   "source": [
    "import tensorflow as tf\n",
    "import os\n",
    "import matplotlib.pyplot as plt"
   ]
  },
  {
   "cell_type": "code",
   "execution_count": 2,
   "metadata": {},
   "outputs": [
    {
     "name": "stdout",
     "output_type": "stream",
     "text": [
      "WARNING:tensorflow:From <ipython-input-2-89eaaedad0ba>:3: read_data_sets (from tensorflow.contrib.learn.python.learn.datasets.mnist) is deprecated and will be removed in a future version.\n",
      "Instructions for updating:\n",
      "Please use alternatives such as official/mnist/dataset.py from tensorflow/models.\n",
      "WARNING:tensorflow:From C:\\Anaconda\\lib\\site-packages\\tensorflow\\contrib\\learn\\python\\learn\\datasets\\mnist.py:260: maybe_download (from tensorflow.contrib.learn.python.learn.datasets.base) is deprecated and will be removed in a future version.\n",
      "Instructions for updating:\n",
      "Please write your own downloading logic.\n",
      "WARNING:tensorflow:From C:\\Anaconda\\lib\\site-packages\\tensorflow\\contrib\\learn\\python\\learn\\datasets\\mnist.py:262: extract_images (from tensorflow.contrib.learn.python.learn.datasets.mnist) is deprecated and will be removed in a future version.\n",
      "Instructions for updating:\n",
      "Please use tf.data to implement this functionality.\n",
      "Extracting MNIST_data\\train-images-idx3-ubyte.gz\n",
      "WARNING:tensorflow:From C:\\Anaconda\\lib\\site-packages\\tensorflow\\contrib\\learn\\python\\learn\\datasets\\mnist.py:267: extract_labels (from tensorflow.contrib.learn.python.learn.datasets.mnist) is deprecated and will be removed in a future version.\n",
      "Instructions for updating:\n",
      "Please use tf.data to implement this functionality.\n",
      "Extracting MNIST_data\\train-labels-idx1-ubyte.gz\n",
      "WARNING:tensorflow:From C:\\Anaconda\\lib\\site-packages\\tensorflow\\contrib\\learn\\python\\learn\\datasets\\mnist.py:110: dense_to_one_hot (from tensorflow.contrib.learn.python.learn.datasets.mnist) is deprecated and will be removed in a future version.\n",
      "Instructions for updating:\n",
      "Please use tf.one_hot on tensors.\n",
      "Extracting MNIST_data\\t10k-images-idx3-ubyte.gz\n",
      "Extracting MNIST_data\\t10k-labels-idx1-ubyte.gz\n",
      "WARNING:tensorflow:From C:\\Anaconda\\lib\\site-packages\\tensorflow\\contrib\\learn\\python\\learn\\datasets\\mnist.py:290: DataSet.__init__ (from tensorflow.contrib.learn.python.learn.datasets.mnist) is deprecated and will be removed in a future version.\n",
      "Instructions for updating:\n",
      "Please use alternatives such as official/mnist/dataset.py from tensorflow/models.\n"
     ]
    }
   ],
   "source": [
    "# MNIST 데이터 적재\n",
    "from tensorflow.examples.tutorials.mnist import input_data\n",
    "mnist = input_data.read_data_sets(\"MNIST_data\", one_hot=True)\n",
    "\n",
    "os.environ['TF_CPP_MIN_LOG_LEVEL']='2' # 경고 메시지 화면출력 금지"
   ]
  },
  {
   "cell_type": "code",
   "execution_count": 3,
   "metadata": {},
   "outputs": [],
   "source": [
    "# 파라미터\n",
    "learning_rate = 0.001 #신경망 학습률\n",
    "training_epochs = 100 #학습 횟수 (epoch)\n",
    "batch_size=100 # 미니배치의 크기\n",
    "display_step = 10 # 중간결과 출력 간격"
   ]
  },
  {
   "cell_type": "code",
   "execution_count": 4,
   "metadata": {},
   "outputs": [],
   "source": [
    "#신경망 구조 관련 파라미터\n",
    "n_hidden_1 = 15 #은닉층의 노드 개수\n",
    "n_input = 784 #입력층의 노드 개수 MNIST 데이터 (28x28)\n",
    "n_classes = 10 #출력층의 노드 수 MNIST 부류 개수(숫자 0~9)"
   ]
  },
  {
   "cell_type": "code",
   "execution_count": 5,
   "metadata": {},
   "outputs": [],
   "source": [
    "#텐서 그래프 입력 변수\n",
    "x = tf.placeholder(\"float\", [None, n_input]) #입력 : 필기체 영상\n",
    "y = tf.placeholder(\"float\", [None, n_classes]) #출력 : 숫자"
   ]
  },
  {
   "cell_type": "code",
   "execution_count": 6,
   "metadata": {},
   "outputs": [],
   "source": [
    "#학습모델 MLP정의\n",
    "def multilayer_perceptron(x, weights, biases):\n",
    "# ReLu를 사용하는 은닉층\n",
    "    layer_1 = tf.add(tf.matmul(x, weights['h1']), biases['b1'])\n",
    "    layer_1 = tf.nn.relu(layer_1)\n",
    "    # 출력층 (활성화 함수 미사용)\n",
    "    out_layer = tf.matmul(layer_1, weights['out']) + biases['out']\n",
    "    return out_layer"
   ]
  },
  {
   "cell_type": "code",
   "execution_count": 7,
   "metadata": {},
   "outputs": [],
   "source": [
    "#학습할 파라미터: 가중치(weights), 편차항(biases)\n",
    "weights={\n",
    "    'h1': tf.Variable(tf.random_normal([n_input, n_hidden_1])),\n",
    "    'out' : tf.Variable(tf.random_normal([n_hidden_1, n_classes]))\n",
    "}\n",
    "biases={\n",
    "    'b1' : tf.Variable(tf.random_normal([n_hidden_1])),\n",
    "    'out' : tf.Variable(tf.random_normal([n_classes]))\n",
    "}"
   ]
  },
  {
   "cell_type": "code",
   "execution_count": 8,
   "metadata": {},
   "outputs": [
    {
     "name": "stdout",
     "output_type": "stream",
     "text": [
      "WARNING:tensorflow:From <ipython-input-8-7ea14fe6b8ce>:5: softmax_cross_entropy_with_logits (from tensorflow.python.ops.nn_ops) is deprecated and will be removed in a future version.\n",
      "Instructions for updating:\n",
      "\n",
      "Future major versions of TensorFlow will allow gradients to flow\n",
      "into the labels input on backprop by default.\n",
      "\n",
      "See @{tf.nn.softmax_cross_entropy_with_logits_v2}.\n",
      "\n"
     ]
    }
   ],
   "source": [
    "#신경망 모델 구성, 출력값 pred : 입력 x에 대한 신경망의 출력\n",
    "pred = multilayer_perceptron(x, weights, biases)\n",
    "\n",
    "#비용(오차) 정의 (신경망 출력 pred, 목표 출력 y): 교차 엔트로피 사용\n",
    "cost = tf.reduce_mean(tf.nn.softmax_cross_entropy_with_logits(logits=pred, labels=y))"
   ]
  },
  {
   "cell_type": "code",
   "execution_count": 9,
   "metadata": {},
   "outputs": [],
   "source": [
    "#학습 알고리즘 설정\n",
    "optimizer = tf.train.AdamOptimizer(learning_rate=learning_rate).minimize(cost);\n",
    "\n",
    "init = tf.global_variables_initializer(); #변수 초기화 지정"
   ]
  },
  {
   "cell_type": "code",
   "execution_count": 10,
   "metadata": {},
   "outputs": [
    {
     "name": "stdout",
     "output_type": "stream",
     "text": [
      "Epoch: 0001 cost= 7.564431206\n",
      "Epoch: 0011 cost= 0.568595674\n",
      "Epoch: 0021 cost= 0.317942311\n",
      "Epoch: 0031 cost= 0.249816822\n",
      "Epoch: 0041 cost= 0.206625722\n",
      "Epoch: 0051 cost= 0.180131999\n",
      "Epoch: 0061 cost= 0.163107519\n",
      "Epoch: 0071 cost= 0.151431482\n",
      "Epoch: 0081 cost= 0.141087568\n",
      "Epoch: 0091 cost= 0.132647228\n",
      "정확도 :  0.9423\n",
      "훈련시간 :  80.4615276\n"
     ]
    }
   ],
   "source": [
    "import timeit\n",
    "timeS = timeit.default_timer()\n",
    "\n",
    "with tf.name_scope(\"accuracy\"):\n",
    "    # 모델 테스트 : out의 최대값 노드와 y 노드가 같으면 정답\n",
    "    correct_prediction = tf.equal(tf.argmax(pred, 1), tf.argmax(y, 1))\n",
    "    # correct_prediction 평균\n",
    "    accuracy = tf.reduce_mean(tf.cast(correct_prediction, \"float\"))\n",
    "    tf.summary.scalar('accuracy', accuracy)\n",
    "\n",
    "#데이터 플로우 그래프 실행\n",
    "with tf.Session() as sess:\n",
    "    writer = tf.summary.FileWriter(\"./logs/on_logs\", sess.graph)\n",
    "    merged = tf.summary.merge_all()\n",
    "    \n",
    "    sess.run(init)\n",
    "    total_batch = int(mnist.train.num_examples / batch_size) #배치 개수\n",
    "    for epoch in range(training_epochs): #정해진 횟수 만큼 학습\n",
    "        avg_cost = 0;\n",
    "        for i in range(total_batch): #미니 배치\n",
    "            batch_x, batch_y = mnist.train.next_batch(batch_size) #적재\n",
    "            #역전파 알고리즘 적용\n",
    "            _, c = sess.run([optimizer, cost], feed_dict={x:batch_x, y:batch_y})\n",
    "            avg_cost += c / total_batch #평균 손실(오류) 계산\n",
    "            \n",
    "        if epoch % display_step == 0: #현재 학습 상황 출력\n",
    "            print(\"Epoch:\", '%04d' % (epoch+1), \"cost=\", \"{:.9f}\".format(avg_cost))\n",
    "        summary, acc = sess.run([merged, accuracy], feed_dict={x: mnist.test.images, y: mnist.test.labels})\n",
    "        writer.add_summary(summary, epoch)\n",
    "        \n",
    "    print(\"정확도 : \", accuracy.eval({x: mnist.test.images, y: mnist.test.labels}))\n",
    "\n",
    "timeE = timeit.default_timer()\n",
    "print(\"훈련시간 : \", timeE-timeS)"
   ]
  },
  {
   "cell_type": "code",
   "execution_count": null,
   "metadata": {},
   "outputs": [],
   "source": []
  }
 ],
 "metadata": {
  "kernelspec": {
   "display_name": "Python 3",
   "language": "python",
   "name": "python3"
  },
  "language_info": {
   "codemirror_mode": {
    "name": "ipython",
    "version": 3
   },
   "file_extension": ".py",
   "mimetype": "text/x-python",
   "name": "python",
   "nbconvert_exporter": "python",
   "pygments_lexer": "ipython3",
   "version": "3.6.5"
  }
 },
 "nbformat": 4,
 "nbformat_minor": 2
}
